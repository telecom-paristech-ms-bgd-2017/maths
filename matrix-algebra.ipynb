{
 "cells": [
  {
   "cell_type": "markdown",
   "metadata": {},
   "source": [
    "**Cauchy-Binet Formula** :\n",
    "> Let $A \\in \\mathcal{M}_{n,p}(\\mathbb{R})$ and $B \\in \\mathcal{M}_{p,n}(\\mathbb{R})$, then:\n",
    "\n",
    "> $$\n",
    "\\displaystyle\n",
    "\\det(AB) = \\sum_{1\\le j_1<...<j_n\\le p}\n",
    "\\det\\begin{pmatrix}A_{j_1} & \\ldots & A_{j_n}\\end{pmatrix}\n",
    "\\det\\begin{pmatrix}^tB_{j_1} \\\\ \\vdots \\\\  ^tB_{j_n}\\end{pmatrix}\n",
    "$$\n",
    "\n",
    "> where the colum vector $A_i$ is the ith column of the matrix $A$ and the row vector $^tB_{i}$ the ith row of the matrix $B$.\n",
    "\n",
    "<hr>\n",
    "**Proof**:\n",
    "\n",
    "Suppose $n>p$.  \n",
    "\n",
    "$$\\text{rank}(AB) \\le \\min(\\text{rank}(A),\\text{rank}(B)) = p < n$$\n",
    "\n",
    "That is to say AB is not invertible, then $\\det(AB) = 0$. The formula is correct, because by convention an empty sum is equal to $0$. \n",
    "\n",
    "Suppose $n \\le p$.  \n",
    "\n",
    "By definition of matrix product and with the multi-linear property of determinant: \n",
    "\n",
    "$$\n",
    "\\begin{split}\n",
    "\\det(AB) \n",
    "& = det\\left( \\sum_{j_1=1}^{p}b_{j_1, 1}A_{j_1}, ...,  \\sum_{j_n=1}^{p}b_{j_n, n}A_{j_n} \\right) \\\\\n",
    "& = \\sum_{j_1,...,j_n=1}^{p}\\prod_{k=1}^{n}b_{j_k, k}\\det\\left( A_{j_1}, ..., A_{j_n} \\right) \\\\\n",
    "\\end{split}\n",
    "$$\n",
    "\n",
    "But $\\det\\left( A_{j_1}, ..., A_{j_n} \\right) = 0$ if two colums are identical, we keep only the sets $\\{j_1,..,j_n\\}$ who are a subset of $\\{1,..,p\\}$. In addition for each $\\{j_1,..,j_n\\}$ determined, we sum on all permutations of this set. And for each permutation $\\sigma$: \n",
    "\n",
    "$$\n",
    "\\det\\left( A_{\\sigma(j_1)}, ..., A_{\\sigma(j_n)} \\right) \n",
    "= sgn(\\sigma) \\det\\left( A_{j_1}, ..., A_{j_n} \\right) \n",
    "$$\n",
    "\n",
    "where $(j_1, ..., j_n)$ is such as $1\\le j_1<...<j_n\\le p$. Let $S_n$ to be the set of permutations of $\\{j_1,..,j_n\\}$:\n",
    "\n",
    "$$\n",
    "\\begin{split}\n",
    "\\det(AB) \n",
    "& = \\sum_{1\\le j_1<...<j_n\\le p}\n",
    "\\det\\left( A_{j_1}, ..., A_{j_n} \\right)\n",
    "\\left(\\sum_{\\sigma \\in S_n} sgn(\\sigma) \\prod_{k=1}^{n} b_{\\sigma(k), k} \\right) \\\\\n",
    "& = \\sum_{1\\le j_1<...<j_n\\le p}\n",
    "\\det\\begin{pmatrix}A_{j_1} & \\ldots & A_{j_n}\\end{pmatrix}\n",
    "\\det\\begin{pmatrix}^tB_{j_1} \\\\ \\vdots \\\\  ^tB_{j_n}\\end{pmatrix}\n",
    "\\end{split}\n",
    "$$\n",
    "<hr>\n",
    "\n",
    "**Note**: If $n = p$, we retrieve the classic formula :\n",
    "\n",
    "> For all $A,B \\in \\mathcal{M}_{n}(\\mathbb{R})$\n",
    "> $$ \\det(AB) = \\det(A)\\det(B) $$\n"
   ]
  },
  {
   "cell_type": "code",
   "execution_count": null,
   "metadata": {
    "collapsed": true
   },
   "outputs": [],
   "source": []
  }
 ],
 "metadata": {
  "kernelspec": {
   "display_name": "Python 2",
   "language": "python",
   "name": "python2"
  },
  "language_info": {
   "codemirror_mode": {
    "name": "ipython",
    "version": 2
   },
   "file_extension": ".py",
   "mimetype": "text/x-python",
   "name": "python",
   "nbconvert_exporter": "python",
   "pygments_lexer": "ipython2",
   "version": "2.7.12"
  }
 },
 "nbformat": 4,
 "nbformat_minor": 1
}
